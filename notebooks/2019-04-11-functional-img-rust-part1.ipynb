{
  "cells": [
    {
      "cell_type": "markdown",
      "source": [
        "# Funtional Image Processing in Rust - Part 1\n",
        "This notebook provides an interactive version of the code feature in the [Functional Image Processing in Rust - Part 1 blog post](https://keithschulze.com/posts/imgrs/2019-04-05-img-rust-part1.html). This is a [Jupyter notebook](https://jupyter-notebook.readthedocs.io) and you can find out more about how to interact with the notebook [here](https://jupyter-notebook.readthedocs.io/en/stable/notebook.html#basic-workflow).\n",
        "\nIf you execute (i.e., Shift + Enter) all the cells in order from top to bottom, it should produce the images featured in the blog post."
      ],
      "metadata": {}
    },
    {
      "cell_type": "code",
      "source": [
        "// Bring in a few dependencies. Note: this can take quite some time, so\n",
        "// be patient.\n",
        "extern crate image;\n",
        "extern crate base64;\n",
        "extern crate num;"
      ],
      "outputs": [],
      "execution_count": 2,
      "metadata": {
        "collapsed": false,
        "inputHidden": false,
        "outputHidden": false
      }
    },
    {
      "cell_type": "code",
      "source": [
        "use image::ImageBuffer;\n",
        "use image::Bgra;\n",
        "use image::Luma;\n",
        "use num::Integer;"
      ],
      "outputs": [],
      "execution_count": 3,
      "metadata": {
        "collapsed": false,
        "outputHidden": false,
        "inputHidden": false
      }
    },
    {
      "cell_type": "code",
      "source": [
        "// Note: This cell just provides some functions that allow image types \n",
        "// from PistonDevelopers `image` to be rendered inline in a Jupyter notebook.\n",
        "\n",
        "pub type BgraImage = ImageBuffer<Bgra<u8>, Vec<u8>>;\n",
        "pub trait EvcxrResult {fn evcxr_display(&self);}\n",
        "impl EvcxrResult for image::RgbImage {\n",
        "    fn evcxr_display(&self) {\n",
        "        let mut buffer = Vec::new();\n",
        "        image::png::PNGEncoder::new(&mut buffer).encode(&**self, self.width(), self.height(),\n",
        "            image::ColorType::RGB(8)).unwrap();\n",
        "        let img = base64::encode(&buffer);\n",
        "        println!(\"EVCXR_BEGIN_CONTENT image/png\\n{}\\nEVCXR_END_CONTENT\", img);        \n",
        "    }\n",
        "}\n",
        "impl EvcxrResult for image::RgbaImage {\n",
        "    fn evcxr_display(&self) {\n",
        "        let mut buffer = Vec::new();\n",
        "        image::png::PNGEncoder::new(&mut buffer).encode(&**self, self.width(), self.height(),\n",
        "            image::ColorType::RGBA(8)).unwrap();\n",
        "        let img = base64::encode(&buffer);\n",
        "        println!(\"EVCXR_BEGIN_CONTENT image/png\\n{}\\nEVCXR_END_CONTENT\", img);        \n",
        "    }\n",
        "}\n",
        "impl EvcxrResult for BgraImage {\n",
        "    fn evcxr_display(&self) {\n",
        "        let mut buffer = Vec::new();\n",
        "        image::png::PNGEncoder::new(&mut buffer).encode(&**self, self.width(), self.height(),\n",
        "            image::ColorType::BGRA(8)).unwrap();\n",
        "        let img = base64::encode(&buffer);\n",
        "        println!(\"EVCXR_BEGIN_CONTENT image/png\\n{}\\nEVCXR_END_CONTENT\", img);        \n",
        "    }\n",
        "}\n",
        "impl EvcxrResult for image::GrayImage {\n",
        "    fn evcxr_display(&self) {\n",
        "        let mut buffer = Vec::new();\n",
        "        image::png::PNGEncoder::new(&mut buffer).encode(&**self, self.width(), self.height(),\n",
        "            image::ColorType::Gray(8)).unwrap();\n",
        "        let img = base64::encode(&buffer);\n",
        "        println!(\"EVCXR_BEGIN_CONTENT image/png\\n{}\\nEVCXR_END_CONTENT\", img);        \n",
        "    }\n",
        "}"
      ],
      "outputs": [],
      "execution_count": 4,
      "metadata": {}
    },
    {
      "cell_type": "code",
      "source": [
        "pub type Coord = (f32, f32);\n",
        "\n",
        "pub trait Img<A> : Fn(Coord) -> A {}\n",
        "impl <F, A> Img<A> for F where F: Fn(Coord) -> A {}"
      ],
      "outputs": [],
      "execution_count": 5,
      "metadata": {}
    },
    {
      "cell_type": "code",
      "source": [
        "pub trait Region : Img<bool> {}\n",
        "impl <F> Region for F where F: Fn(Coord) -> bool {}"
      ],
      "outputs": [],
      "execution_count": 6,
      "metadata": {}
    },
    {
      "cell_type": "code",
      "source": [
        "pub type Vector = (f32, f32);\n",
        "\n",
        "pub fn render<F: Region>(\n",
        "    im: F,\n",
        "    width: u32,\n",
        "    height: u32,\n",
        "    origin: Vector,\n",
        "    pixel_size: Vector,\n",
        ") -> ImageBuffer<Luma<u8>, Vec<u8>> {\n",
        "    let (pw, ph) = pixel_size;\n",
        "    let (ox, oy) = origin;\n",
        "    image::ImageBuffer::from_fn(width, height, |x, y| {\n",
        "        let pixel = im((x as f32 * pw - ox, y as f32 * ph - oy)) as u8;\n",
        "        image::Luma([pixel * 255])\n",
        "    })\n",
        "}\n"
      ],
      "outputs": [],
      "execution_count": 7,
      "metadata": {}
    },
    {
      "cell_type": "code",
      "source": [
        "pub fn vstrip() -> impl Region {\n",
        "    |(x, _y): Coord| x.abs() <= 0.5\n",
        "}"
      ],
      "outputs": [],
      "execution_count": 8,
      "metadata": {}
    },
    {
      "cell_type": "code",
      "source": [
        "render(vstrip(), 512, 512, (2.5, 0.0), (0.009765625, 0.009765625))"
      ],
      "outputs": [
        {
          "output_type": "execute_result",
          "execution_count": 9,
          "data": {
            "image/png": "[encoded data removed]"
          },
          "metadata": {}
        }
      ],
      "execution_count": 9,
      "metadata": {
        "collapsed": false,
        "outputHidden": false,
        "inputHidden": false
      }
    },
    {
      "cell_type": "code",
      "source": [
        "pub fn checker() -> impl Region {\n",
        "    |(x, y): Coord| ((x.floor() + y.floor()) as u32).is_even()\n",
        "}"
      ],
      "outputs": [],
      "execution_count": 10,
      "metadata": {}
    },
    {
      "cell_type": "code",
      "source": [
        "render(checker(), 1024, 512, (0.0, 0.0), (0.009765625, 0.009765625))"
      ],
      "outputs": [
        {
          "output_type": "execute_result",
          "execution_count": 11,
          "data": {
            "image/png": "[encoded data removed]"
          },
          "metadata": {}
        }
      ],
      "execution_count": 11,
      "metadata": {
        "collapsed": false,
        "outputHidden": false,
        "inputHidden": false
      }
    },
    {
      "cell_type": "code",
      "source": [
        "pub fn dist_o(c: Coord) -> f32 {\n",
        "    let (x, y) = c;\n",
        "    (x * x + y * y).sqrt()\n",
        "}\n",
        "\n",
        "pub fn alt_rings() -> impl Region {\n",
        "    |p| (dist_o(p).floor() as i32).is_even()\n",
        "}"
      ],
      "outputs": [],
      "execution_count": 12,
      "metadata": {}
    },
    {
      "cell_type": "code",
      "source": [
        "render(alt_rings(), 512, 512, (10.0, 10.0), (0.0390625, 0.0390625))"
      ],
      "outputs": [
        {
          "output_type": "execute_result",
          "execution_count": 13,
          "data": {
            "image/png": "[encoded data removed]"
          },
          "metadata": {}
        }
      ],
      "execution_count": 13,
      "metadata": {
        "collapsed": false,
        "outputHidden": false,
        "inputHidden": false
      }
    },
    {
      "cell_type": "code",
      "source": [
        "use std::f32::consts::PI;\n",
        "\n",
        "pub type Polar = (f32, f32);\n",
        "\n",
        "pub fn to_polar(c: Coord) -> Polar {\n",
        "    let (x, y) = c;\n",
        "    (dist_o(c), y.atan2(x))\n",
        "}\n",
        "\n",
        "pub fn from_polar(polar: Polar) -> Coord {\n",
        "    let (p, theta) = polar;\n",
        "    (p * theta.cos(), p * theta.sin())\n",
        "}\n",
        "\n",
        "pub fn compose<A, B, C, F, G>(f: F, g: G) -> impl Fn(A) -> C\n",
        "where\n",
        "    F: Fn(B) -> C,\n",
        "    G: Fn(A) -> B,\n",
        "{\n",
        "    move |x| f(g(x))\n",
        "}\n",
        "\n",
        "pub fn polar_checker(n: i32) -> impl Region {\n",
        "    let sc = move |polar: Polar| -> Polar {\n",
        "        let (p, theta) = polar;\n",
        "        (p, theta * (n as f32 / PI))\n",
        "    };\n",
        "    compose(checker(), compose(sc, to_polar))\n",
        "}"
      ],
      "outputs": [],
      "execution_count": 14,
      "metadata": {}
    },
    {
      "cell_type": "code",
      "source": [
        "render(polar_checker(10), 1024, 512, (5.0, 2.5), (0.009765625, 0.009765625))"
      ],
      "outputs": [
        {
          "output_type": "execute_result",
          "execution_count": 15,
          "data": {
            "image/png": "[encoded data removed]"
          },
          "metadata": {}
        }
      ],
      "execution_count": 15,
      "metadata": {
        "collapsed": false,
        "outputHidden": false,
        "inputHidden": false
      }
    },
    {
      "cell_type": "code",
      "source": [],
      "outputs": [],
      "execution_count": null,
      "metadata": {
        "collapsed": false,
        "outputHidden": false,
        "inputHidden": false
      }
    }
  ],
  "metadata": {
    "kernelspec": {
      "name": "rust",
      "language": "rust",
      "display_name": "Rust"
    },
    "language_info": {
      "name": "Rust",
      "version": "",
      "mimetype": "text/rust",
      "file_extension": ".rs",
      "pygment_lexer": "rust",
      "codemirror_mode": "rust"
    },
    "nteract": {
      "version": "0.12.3"
    },
    "kernel_info": {
      "name": "rust"
    }
  },
  "nbformat": 4,
  "nbformat_minor": 2
}